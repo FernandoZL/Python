from flask import Flask, render_template, request
import sqlite3

app = Flask(__name__)
app.config['SECRET_KEY'] = 'your-secret-key'  # Cambia esto por tu propia clave secreta

# Configuración de la base de datos SQLite
DATABASE = 'llamadas.db'

def get_db_connection():
    conn = sqlite3.connect(DATABASE)
    conn.row_factory = sqlite3.Row
    return conn

def init_database():
    conn = get_db_connection()
    with app.open_resource('schema.sql', mode='r') as f:
        conn.cursor().executescript(f.read())
    conn.commit()

@app.teardown_appcontext
def close_db_connection(exception):
    conn = get_db_connection()
    conn.close()

# Rutas de la aplicación

@app.route('/')
def index():
    conn = get_db_connection()
    llamadas = conn.execute('SELECT * FROM llamadas').fetchall()
    conn.close()
    return render_template('index.html', llamadas=llamadas)

@app.route('/nueva_llamada', methods=['GET', 'POST'])
def nueva_llamada():
    if request.method == 'POST':
        cliente = request.form['cliente']
        nombre = request.form['nombre']
        telefono = request.form['telefono']
        usuario = request.form['usuario']

        conn = get_db_connection()
        conn.execute('INSERT INTO llamadas (cliente, nombre, telefono, usuario) VALUES (?, ?, ?, ?)',
                     (cliente, nombre, telefono, usuario))
        conn.commit()
        conn.close()
        
    return render_template('nueva_llamada.html')

# Inicialización de la base de datos
init_database()

if __name__ == '__main__':
    app.run()
